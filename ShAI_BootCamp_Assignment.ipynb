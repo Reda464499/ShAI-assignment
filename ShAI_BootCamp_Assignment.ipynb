{
 "cells": [
  {
   "cell_type": "markdown",
   "metadata": {
    "id": "9veqgG-LVKd3"
   },
   "source": [
    "#About Dataset\n",
    "salaries dataset generally provides information about the employees of an organization in relation to their compensation. It typically includes details such as how much each employee is paid (their salary), their job titles, the departments they work in, and possibly additional information like their level of experience, education, and employment history within the organization."
   ]
  },
  {
   "cell_type": "code",
   "execution_count": null,
   "metadata": {},
   "outputs": [],
   "source": [
    "Reda Assi"
   ]
  },
  {
   "cell_type": "markdown",
   "metadata": {
    "id": "cZwHdpBfVzOh"
   },
   "source": [
    "# Features\n",
    "- 'Id'\n",
    "- 'EmployeeName'\n",
    "- 'JobTitle'\n",
    "- 'BasePay'\n",
    "- 'OvertimePay'\n",
    "- 'OtherPay'\n",
    "- 'Benefits'\n",
    "- 'TotalPay' -> salary\n",
    "- 'TotalPayBenefits'\n",
    "- 'Year'\n",
    "- 'Notes'\n",
    "- 'Agency'\n",
    "- 'Status'\n"
   ]
  },
  {
   "cell_type": "markdown",
   "metadata": {
    "id": "X1VJposzVrSF"
   },
   "source": [
    "# Tasks\n",
    "\n",
    "1. **Basic Data Exploration**: Identify the number of rows and columns in the dataset, determine the data types of each column, and check for missing values in each column.\n",
    "\n",
    "2. **Descriptive Statistics**: Calculate basic statistics mean, median, mode, minimum, and maximum salary, determine the range of salaries, and find the standard deviation.\n",
    "\n",
    "3. **Data Cleaning**: Handle missing data by suitable method with explain why you use it.\n",
    "\n",
    "4. **Basic Data Visualization**: Create histograms or bar charts to visualize the distribution of salaries, and use pie charts to represent the proportion of employees in different departments.\n",
    "\n",
    "5. **Grouped Analysis**: Group the data by one or more columns and calculate summary statistics for each group, and compare the average salaries across different groups.\n",
    "\n",
    "6. **Simple Correlation Analysis**: Identify any correlation between salary and another numerical column, and plot a scatter plot to visualize the relationship.\n",
    "\n",
    "8. **Summary of Insights**: Write a brief report summarizing the findings and insights from the analyses."
   ]
  },
  {
   "cell_type": "markdown",
   "metadata": {
    "id": "8_rNdHiGUT6A"
   },
   "source": [
    "# Very Important Note\n",
    "There is no fixed or singular solution for this assignment, so if anything is not clear, please do what you understand and provide an explanation."
   ]
  },
  {
   "cell_type": "code",
   "execution_count": 45,
   "metadata": {
    "colab": {
     "base_uri": "https://localhost:8080/",
     "height": 486
    },
    "id": "KmZfk5xkXI2y",
    "outputId": "e77ffddb-f533-4bac-d15a-3ea9f42b7890"
   },
   "outputs": [
    {
     "data": {
      "text/html": [
       "<div>\n",
       "<style scoped>\n",
       "    .dataframe tbody tr th:only-of-type {\n",
       "        vertical-align: middle;\n",
       "    }\n",
       "\n",
       "    .dataframe tbody tr th {\n",
       "        vertical-align: top;\n",
       "    }\n",
       "\n",
       "    .dataframe thead th {\n",
       "        text-align: right;\n",
       "    }\n",
       "</style>\n",
       "<table border=\"1\" class=\"dataframe\">\n",
       "  <thead>\n",
       "    <tr style=\"text-align: right;\">\n",
       "      <th></th>\n",
       "      <th>Id</th>\n",
       "      <th>EmployeeName</th>\n",
       "      <th>JobTitle</th>\n",
       "      <th>BasePay</th>\n",
       "      <th>OvertimePay</th>\n",
       "      <th>OtherPay</th>\n",
       "      <th>Benefits</th>\n",
       "      <th>TotalPay</th>\n",
       "      <th>TotalPayBenefits</th>\n",
       "      <th>Year</th>\n",
       "      <th>Notes</th>\n",
       "      <th>Agency</th>\n",
       "      <th>Status</th>\n",
       "    </tr>\n",
       "  </thead>\n",
       "  <tbody>\n",
       "    <tr>\n",
       "      <th>0</th>\n",
       "      <td>1</td>\n",
       "      <td>NATHANIEL FORD</td>\n",
       "      <td>GENERAL MANAGER-METROPOLITAN TRANSIT AUTHORITY</td>\n",
       "      <td>167411.18</td>\n",
       "      <td>0.00</td>\n",
       "      <td>400184.25</td>\n",
       "      <td>NaN</td>\n",
       "      <td>567595.43</td>\n",
       "      <td>567595.43</td>\n",
       "      <td>2011</td>\n",
       "      <td>NaN</td>\n",
       "      <td>San Francisco</td>\n",
       "      <td>NaN</td>\n",
       "    </tr>\n",
       "    <tr>\n",
       "      <th>1</th>\n",
       "      <td>2</td>\n",
       "      <td>GARY JIMENEZ</td>\n",
       "      <td>CAPTAIN III (POLICE DEPARTMENT)</td>\n",
       "      <td>155966.02</td>\n",
       "      <td>245131.88</td>\n",
       "      <td>137811.38</td>\n",
       "      <td>NaN</td>\n",
       "      <td>538909.28</td>\n",
       "      <td>538909.28</td>\n",
       "      <td>2011</td>\n",
       "      <td>NaN</td>\n",
       "      <td>San Francisco</td>\n",
       "      <td>NaN</td>\n",
       "    </tr>\n",
       "    <tr>\n",
       "      <th>2</th>\n",
       "      <td>3</td>\n",
       "      <td>ALBERT PARDINI</td>\n",
       "      <td>CAPTAIN III (POLICE DEPARTMENT)</td>\n",
       "      <td>212739.13</td>\n",
       "      <td>106088.18</td>\n",
       "      <td>16452.60</td>\n",
       "      <td>NaN</td>\n",
       "      <td>335279.91</td>\n",
       "      <td>335279.91</td>\n",
       "      <td>2011</td>\n",
       "      <td>NaN</td>\n",
       "      <td>San Francisco</td>\n",
       "      <td>NaN</td>\n",
       "    </tr>\n",
       "    <tr>\n",
       "      <th>3</th>\n",
       "      <td>4</td>\n",
       "      <td>CHRISTOPHER CHONG</td>\n",
       "      <td>WIRE ROPE CABLE MAINTENANCE MECHANIC</td>\n",
       "      <td>77916.00</td>\n",
       "      <td>56120.71</td>\n",
       "      <td>198306.90</td>\n",
       "      <td>NaN</td>\n",
       "      <td>332343.61</td>\n",
       "      <td>332343.61</td>\n",
       "      <td>2011</td>\n",
       "      <td>NaN</td>\n",
       "      <td>San Francisco</td>\n",
       "      <td>NaN</td>\n",
       "    </tr>\n",
       "    <tr>\n",
       "      <th>4</th>\n",
       "      <td>5</td>\n",
       "      <td>PATRICK GARDNER</td>\n",
       "      <td>DEPUTY CHIEF OF DEPARTMENT,(FIRE DEPARTMENT)</td>\n",
       "      <td>134401.60</td>\n",
       "      <td>9737.00</td>\n",
       "      <td>182234.59</td>\n",
       "      <td>NaN</td>\n",
       "      <td>326373.19</td>\n",
       "      <td>326373.19</td>\n",
       "      <td>2011</td>\n",
       "      <td>NaN</td>\n",
       "      <td>San Francisco</td>\n",
       "      <td>NaN</td>\n",
       "    </tr>\n",
       "  </tbody>\n",
       "</table>\n",
       "</div>"
      ],
      "text/plain": [
       "   Id       EmployeeName                                        JobTitle  \\\n",
       "0   1     NATHANIEL FORD  GENERAL MANAGER-METROPOLITAN TRANSIT AUTHORITY   \n",
       "1   2       GARY JIMENEZ                 CAPTAIN III (POLICE DEPARTMENT)   \n",
       "2   3     ALBERT PARDINI                 CAPTAIN III (POLICE DEPARTMENT)   \n",
       "3   4  CHRISTOPHER CHONG            WIRE ROPE CABLE MAINTENANCE MECHANIC   \n",
       "4   5    PATRICK GARDNER    DEPUTY CHIEF OF DEPARTMENT,(FIRE DEPARTMENT)   \n",
       "\n",
       "     BasePay  OvertimePay   OtherPay  Benefits   TotalPay  TotalPayBenefits  \\\n",
       "0  167411.18         0.00  400184.25       NaN  567595.43         567595.43   \n",
       "1  155966.02    245131.88  137811.38       NaN  538909.28         538909.28   \n",
       "2  212739.13    106088.18   16452.60       NaN  335279.91         335279.91   \n",
       "3   77916.00     56120.71  198306.90       NaN  332343.61         332343.61   \n",
       "4  134401.60      9737.00  182234.59       NaN  326373.19         326373.19   \n",
       "\n",
       "   Year  Notes         Agency  Status  \n",
       "0  2011    NaN  San Francisco     NaN  \n",
       "1  2011    NaN  San Francisco     NaN  \n",
       "2  2011    NaN  San Francisco     NaN  \n",
       "3  2011    NaN  San Francisco     NaN  \n",
       "4  2011    NaN  San Francisco     NaN  "
      ]
     },
     "execution_count": 45,
     "metadata": {},
     "output_type": "execute_result"
    }
   ],
   "source": [
    "import pandas as pd\n",
    "from nltk.tokenize import word_tokenize\n",
    "from nltk.corpus import stopwords\n",
    "import numpy as np\n",
    "import matplotlib.pyplot as plt\n",
    "# Load your dataset\n",
    "df = pd.read_csv('Salaries.csv')\n",
    "df.head()"
   ]
  },
  {
   "cell_type": "code",
   "execution_count": 23,
   "metadata": {
    "colab": {
     "base_uri": "https://localhost:8080/"
    },
    "id": "xIT514wlvvBZ",
    "outputId": "9ecf152c-554a-4cf6-d667-efc95c16d489"
   },
   "outputs": [
    {
     "name": "stdout",
     "output_type": "stream",
     "text": [
      "name of columns : Index(['Id', 'EmployeeName', 'JobTitle', 'BasePay', 'OvertimePay', 'OtherPay',\n",
      "       'Benefits', 'TotalPay', 'TotalPayBenefits', 'Year', 'Notes', 'Agency',\n",
      "       'Status'],\n",
      "      dtype='object')\n",
      "Number of rows and columns: (148654, 13)\n",
      "Data types of each column:\n",
      " Id                    int64\n",
      "EmployeeName         object\n",
      "JobTitle             object\n",
      "BasePay             float64\n",
      "OvertimePay         float64\n",
      "OtherPay            float64\n",
      "Benefits            float64\n",
      "TotalPay            float64\n",
      "TotalPayBenefits    float64\n",
      "Year                  int64\n",
      "Notes               float64\n",
      "Agency               object\n",
      "Status              float64\n",
      "dtype: object\n",
      "Missing values in each column:\n",
      " Id                       0\n",
      "EmployeeName             0\n",
      "JobTitle                 0\n",
      "BasePay                609\n",
      "OvertimePay              4\n",
      "OtherPay                 4\n",
      "Benefits             36163\n",
      "TotalPay                 0\n",
      "TotalPayBenefits         0\n",
      "Year                     0\n",
      "Notes               148654\n",
      "Agency                   0\n",
      "Status              148654\n",
      "dtype: int64\n"
     ]
    }
   ],
   "source": [
    "##The first question\n",
    "print(\"name of columns :\",df.columns)\n",
    "print(\"Number of rows and columns:\", df.shape)\n",
    "print(\"Data types of each column:\\n\", df.dtypes)\n",
    "# القيم الفارغة\n",
    "print(\"Missing values in each column:\\n\", df.isnull().sum())"
   ]
  },
  {
   "cell_type": "code",
   "execution_count": 24,
   "metadata": {},
   "outputs": [
    {
     "name": "stdout",
     "output_type": "stream",
     "text": [
      "Mean Salary: 66325.44884050643\n",
      "Median Salary: 65007.45\n",
      "Mode Salary: 0.0\n",
      "Minimum Salary: -166.01\n",
      "Maximum Salary: 319275.01\n",
      "Salary Range: 319441.02\n",
      "Standard Deviation of Salary: 42764.63549525958\n"
     ]
    }
   ],
   "source": [
    "##The second question\n",
    "# الإحصائيات الأساسية لعمود الرواتب\n",
    "salary_column = df['BasePay']\n",
    "\n",
    "mean_salary = salary_column.mean()\n",
    "median_salary = salary_column.median()\n",
    "mode_salary = salary_column.mode().values[0]\n",
    "min_salary = salary_column.min()\n",
    "max_salary = salary_column.max()\n",
    "salary_range = max_salary - min_salary\n",
    "std_dev_salary = salary_column.std()\n",
    "\n",
    "# طباعة النتائج\n",
    "print(\"Mean Salary:\", mean_salary)\n",
    "print(\"Median Salary:\", median_salary)\n",
    "print(\"Mode Salary:\", mode_salary)\n",
    "print(\"Minimum Salary:\", min_salary)\n",
    "print(\"Maximum Salary:\", max_salary)\n",
    "print(\"Salary Range:\", salary_range)\n",
    "print(\"Standard Deviation of Salary:\", std_dev_salary)"
   ]
  },
  {
   "cell_type": "code",
   "execution_count": 25,
   "metadata": {
    "id": "bbIN2ujHUyRx",
    "scrolled": true
   },
   "outputs": [
    {
     "name": "stdout",
     "output_type": "stream",
     "text": [
      "القيم المفقودة في كل عمود:\n",
      " Id                       0\n",
      "EmployeeName             0\n",
      "JobTitle                 0\n",
      "BasePay                  0\n",
      "OvertimePay              4\n",
      "OtherPay                 4\n",
      "Benefits             36163\n",
      "TotalPay                 0\n",
      "TotalPayBenefits         0\n",
      "Year                     0\n",
      "Notes               148654\n",
      "Agency                   0\n",
      "Status              148654\n",
      "dtype: int64\n",
      "الإحصائيات الأساسية بعد التعويض:\n",
      "                   Id        BasePay    OvertimePay       OtherPay  \\\n",
      "count  148654.000000  148654.000000  148650.000000  148650.000000   \n",
      "mean    74327.500000   66325.448841    5066.059886    3648.767297   \n",
      "std     42912.857795   42676.946745   11454.380559    8056.601866   \n",
      "min         1.000000    -166.010000      -0.010000   -7058.590000   \n",
      "25%     37164.250000   33847.017500       0.000000       0.000000   \n",
      "50%     74327.500000   65092.190000       0.000000     811.270000   \n",
      "75%    111490.750000   94605.740000    4658.175000    4236.065000   \n",
      "max    148654.000000  319275.010000  245131.880000  400184.250000   \n",
      "\n",
      "            Benefits       TotalPay  TotalPayBenefits           Year  Notes  \\\n",
      "count  112491.000000  148654.000000     148654.000000  148654.000000    0.0   \n",
      "mean    25007.893151   74768.321972      93692.554811    2012.522643    NaN   \n",
      "std     15402.215858   50517.005274      62793.533483       1.117538    NaN   \n",
      "min       -33.890000    -618.130000       -618.130000    2011.000000    NaN   \n",
      "25%     11535.395000   36168.995000      44065.650000    2012.000000    NaN   \n",
      "50%     28628.620000   71426.610000      92404.090000    2013.000000    NaN   \n",
      "75%     35566.855000  105839.135000     132876.450000    2014.000000    NaN   \n",
      "max     96570.660000  567595.430000     567595.430000    2014.000000    NaN   \n",
      "\n",
      "       Status  \n",
      "count     0.0  \n",
      "mean      NaN  \n",
      "std       NaN  \n",
      "min       NaN  \n",
      "25%       NaN  \n",
      "50%       NaN  \n",
      "75%       NaN  \n",
      "max       NaN  \n"
     ]
    }
   ],
   "source": [
    "##The third question\n",
    "# تعويض القيم المفقودة بمتوسط الرواتب\n",
    "df['BasePay'].fillna(mean_salary, inplace=True)\n",
    "\n",
    "# طباعة النتائج\n",
    "print(\"القيم المفقودة في كل عمود:\\n\", df.isnull().sum())\n",
    "print(\"الإحصائيات الأساسية بعد التعويض:\\n\", df.describe())"
   ]
  },
  {
   "cell_type": "code",
   "execution_count": 26,
   "metadata": {
    "id": "_dovy31FUyUF"
   },
   "outputs": [
    {
     "data": {
      "image/png": "[encoded data removed]",
      "text/plain": [
       "<Figure size 720x432 with 1 Axes>"
      ]
     },
     "metadata": {
      "needs_background": "light"
     },
     "output_type": "display_data"
    }
   ],
   "source": [
    "##The fourth question\n",
    "# رسم هيستوغرام لتوزيع الرواتب\n",
    "plt.figure(figsize=(10, 6))\n",
    "plt.hist(df['BasePay'], bins=20, color='skyblue', edgecolor='black')\n",
    "plt.title('توزيع الرواتب')\n",
    "plt.xlabel('الراتب')\n",
    "plt.ylabel('عدد الموظفين')\n",
    "plt.show()"
   ]
  },
  {
   "cell_type": "code",
   "execution_count": 34,
   "metadata": {},
   "outputs": [
    {
     "name": "stdout",
     "output_type": "stream",
     "text": [
      "                                                   Id                \\\n",
      "                                                count          mean   \n",
      "JobTitle                                                              \n",
      "account clerk                                   351.0  83122.319088   \n",
      "accountant                                        5.0  24159.200000   \n",
      "accountant i                                      8.0  89791.500000   \n",
      "accountant ii                                   226.0  93921.393805   \n",
      "accountant iii                                  278.0  90994.359712   \n",
      "...                                               ...           ...   \n",
      "worker's compensation supervisor i                5.0  11453.800000   \n",
      "x-ray laboratory aide                           126.0  83127.904762   \n",
      "youth comm advisor                                4.0  99677.750000   \n",
      "youth commission advisor, board of supervisors    1.0  23392.000000   \n",
      "zoo curator                                       1.0  18779.000000   \n",
      "\n",
      "                                                                       \\\n",
      "                                                         std      min   \n",
      "JobTitle                                                                \n",
      "account clerk                                   42167.231790  20766.0   \n",
      "accountant                                       6787.702608  19264.0   \n",
      "accountant i                                    33246.612859  55292.0   \n",
      "accountant ii                                   30401.110735  52328.0   \n",
      "accountant iii                                  31450.473934  45114.0   \n",
      "...                                                      ...      ...   \n",
      "worker's compensation supervisor i                989.354689  10331.0   \n",
      "x-ray laboratory aide                           41818.505555  12940.0   \n",
      "youth comm advisor                              32595.496267  58843.0   \n",
      "youth commission advisor, board of supervisors           NaN  23392.0   \n",
      "zoo curator                                              NaN  18779.0   \n",
      "\n",
      "                                                                               \\\n",
      "                                                     25%       50%        75%   \n",
      "JobTitle                                                                        \n",
      "account clerk                                   59773.50   96809.0  134297.00   \n",
      "accountant                                      19325.00   20993.0   25928.00   \n",
      "accountant i                                    56035.25   92498.5  104250.75   \n",
      "accountant ii                                   57796.50   92677.0  127065.75   \n",
      "accountant iii                                  53233.25   86552.0  122533.75   \n",
      "...                                                  ...       ...        ...   \n",
      "worker's compensation supervisor i              10987.00   11106.0   11954.00   \n",
      "x-ray laboratory aide                           55290.50   92834.5  127631.00   \n",
      "youth comm advisor                              88267.00  100704.5  112115.25   \n",
      "youth commission advisor, board of supervisors  23392.00   23392.0   23392.00   \n",
      "zoo curator                                     18779.00   18779.0   18779.00   \n",
      "\n",
      "                                                         BasePay  \\\n",
      "                                                     max   count   \n",
      "JobTitle                                                           \n",
      "account clerk                                   148627.0   351.0   \n",
      "accountant                                       35286.0     5.0   \n",
      "accountant i                                    140731.0     8.0   \n",
      "accountant ii                                   144812.0   226.0   \n",
      "accountant iii                                  148175.0   278.0   \n",
      "...                                                  ...     ...   \n",
      "worker's compensation supervisor i               12891.0     5.0   \n",
      "x-ray laboratory aide                           143632.0   126.0   \n",
      "youth comm advisor                              138459.0     4.0   \n",
      "youth commission advisor, board of supervisors   23392.0     1.0   \n",
      "zoo curator                                      18779.0     1.0   \n",
      "\n",
      "                                                              ... Notes      \\\n",
      "                                                        mean  ...   75% max   \n",
      "JobTitle                                                      ...             \n",
      "account clerk                                   42796.800076  ...   NaN NaN   \n",
      "accountant                                      46643.172000  ...   NaN NaN   \n",
      "accountant i                                    61777.832500  ...   NaN NaN   \n",
      "accountant ii                                   66880.084425  ...   NaN NaN   \n",
      "accountant iii                                  78850.186035  ...   NaN NaN   \n",
      "...                                                      ...  ...   ...  ..   \n",
      "worker's compensation supervisor i              90966.140000  ...   NaN NaN   \n",
      "x-ray laboratory aide                           46412.085794  ...   NaN NaN   \n",
      "youth comm advisor                              39077.957500  ...   NaN NaN   \n",
      "youth commission advisor, board of supervisors  52609.910000  ...   NaN NaN   \n",
      "zoo curator                                     43148.000000  ...   NaN NaN   \n",
      "\n",
      "                                               Status                       \\\n",
      "                                                count mean std min 25% 50%   \n",
      "JobTitle                                                                     \n",
      "account clerk                                     0.0  NaN NaN NaN NaN NaN   \n",
      "accountant                                        0.0  NaN NaN NaN NaN NaN   \n",
      "accountant i                                      0.0  NaN NaN NaN NaN NaN   \n",
      "accountant ii                                     0.0  NaN NaN NaN NaN NaN   \n",
      "accountant iii                                    0.0  NaN NaN NaN NaN NaN   \n",
      "...                                               ...  ...  ..  ..  ..  ..   \n",
      "worker's compensation supervisor i                0.0  NaN NaN NaN NaN NaN   \n",
      "x-ray laboratory aide                             0.0  NaN NaN NaN NaN NaN   \n",
      "youth comm advisor                                0.0  NaN NaN NaN NaN NaN   \n",
      "youth commission advisor, board of supervisors    0.0  NaN NaN NaN NaN NaN   \n",
      "zoo curator                                       0.0  NaN NaN NaN NaN NaN   \n",
      "\n",
      "                                                        \n",
      "                                               75% max  \n",
      "JobTitle                                                \n",
      "account clerk                                  NaN NaN  \n",
      "accountant                                     NaN NaN  \n",
      "accountant i                                   NaN NaN  \n",
      "accountant ii                                  NaN NaN  \n",
      "accountant iii                                 NaN NaN  \n",
      "...                                             ..  ..  \n",
      "worker's compensation supervisor i             NaN NaN  \n",
      "x-ray laboratory aide                          NaN NaN  \n",
      "youth comm advisor                             NaN NaN  \n",
      "youth commission advisor, board of supervisors NaN NaN  \n",
      "zoo curator                                    NaN NaN  \n",
      "\n",
      "[1637 rows x 80 columns]\n"
     ]
    }
   ],
   "source": [
    "#the fifth question\n",
    "grouped_data = df.groupby('JobTitle')\n",
    "\n",
    "# Calculate summary statistics for each group\n",
    "summary_statistics = grouped_data.describe()\n",
    "\n",
    "# Display the summary statistics\n",
    "print(summary_statistics)"
   ]
  },
  {
   "cell_type": "code",
   "execution_count": 44,
   "metadata": {},
   "outputs": [
    {
     "name": "stdout",
     "output_type": "stream",
     "text": [
      "Correlation between BasePay and TotalPay: 0.9505142922626428\n"
     ]
    },
    {
     "data": {
      "image/png": "[encoded data removed]",
      "text/plain": [
       "<Figure size 576x432 with 1 Axes>"
      ]
     },
     "metadata": {
      "needs_background": "light"
     },
     "output_type": "display_data"
    }
   ],
   "source": [
    "#the sixth question\n",
    "correlation = df['BasePay'].corr(df['TotalPay'])\n",
    "\n",
    "# Print the correlation coefficient\n",
    "print(f\"Correlation between BasePay and TotalPay: {correlation}\")\n",
    "\n",
    "# Create a scatter plot\n",
    "plt.figure(figsize=(8, 6))\n",
    "plt.scatter(df['TotalPay'], df['BasePay'], alpha=0.5)\n",
    "plt.title('Scatter Plot: BasePay vs TotalPay')\n",
    "plt.xlabel('TotalPay')\n",
    "plt.ylabel('BasePay')\n",
    "plt.grid(True)\n",
    "plt.show()"
   ]
  },
  {
   "cell_type": "code",
   "execution_count": null,
   "metadata": {},
   "outputs": [],
   "source": [
    "#The Seventh question\n",
    "         \n",
    "1.\tBasic Data Exploration: Identify the number of rows and columns in the dataset, determine the data types of each column, and check for missing values in each column.\n",
    "\n",
    "\n",
    "            Library included : pandas In order to deal with the data , numpy For calculations\n",
    "            \n",
    "            Data has been read from the file ('Salaries.csv')\n",
    "             \n",
    "            The number of columns is found using   (df.columns)\n",
    "\n",
    "            The Shape is found using   (df.shape) \n",
    "\n",
    "            The type of Data using   (df.dtypes)\n",
    "\n",
    "            The type of Data using   (df.isnull().sum())\n",
    "\n",
    "\n",
    "\n",
    "\n",
    "2.\tDescriptive Statistics: Calculate basic statistics mean, median, mode, minimum, and maximum salary, determine the range of salaries, and find the standard deviation.\n",
    "\n",
    "\n",
    "         The mean of salary is found using   (mean())  \n",
    "\n",
    "         The median of salary is found using   (median())\n",
    "\n",
    "         The mode of salary is found using   (mode().values[0])\n",
    "        \n",
    "         The min of salary is found using   (min())\n",
    "\n",
    "         The max of salary is found using   (max())\n",
    "       \n",
    "         The range of salary is found using   (range())\n",
    "\n",
    "         The Standard Deviation of salary is found using   (std_dev_salary)\n",
    "\n",
    "\n",
    "\n",
    "\n",
    "\n",
    "\n",
    "\n",
    "\n",
    "\n",
    "3.\tData Cleaning: Handle missing data by suitable method with explain why you use it.\n",
    "\n",
    "            Missing values were handled by replacing the median using                                                                                                 (df['BasePay'].fillna(mean_salary, inplace=True))\n",
    "\n",
    "\n",
    "\n",
    "4.\tBasic Data Visualization: Create histograms or bar charts to visualize the distribution of salaries, and use pie charts to represent the proportion of employees in different departments.\n",
    "\n",
    "            Library included : matplotlib.pyplot\n",
    "\n",
    "            The histogram of salary distribution was drawn using 20 bins\n",
    "\n",
    "\n",
    "5.\tGrouped Analysis: Group the data by one or more columns and calculate summary statistics for each group, and compare the average salaries across different groups.\n",
    "\n",
    "        \n",
    "          The data has been grouped by column     ('JobTitle')  and a separate  group has been created for each function\n",
    "\n",
    "    \n",
    "          Comprehensive statistics were applied using (grouped_data.describe())\n",
    "\n",
    "\n",
    "6.\tSimple Correlation Analysis: Identify any correlation between salary and another numerical column, and plot a scatter plot to visualize the relationship.\n",
    "\n",
    "\n",
    "          The correlation coefficient was calculated using correlation() Then create a plot of points on the grid\n",
    "          \n",
    "          \n"
   ]
  },
  {
   "cell_type": "markdown",
   "metadata": {
    "id": "HE9jbRjcUyoX"
   },
   "source": [
    "# Good Luck!"
   ]
  }
 ],
 "metadata": {
  "colab": {
   "provenance": []
  },
  "kernelspec": {
   "display_name": "Python 3",
   "language": "python",
   "name": "python3"
  },
  "language_info": {
   "codemirror_mode": {
    "name": "ipython",
    "version": 3
   },
   "file_extension": ".py",
   "mimetype": "text/x-python",
   "name": "python",
   "nbconvert_exporter": "python",
   "pygments_lexer": "ipython3",
   "version": "3.8.8"
  }
 },
 "nbformat": 4,
 "nbformat_minor": 1
}
